{
 "cells": [
  {
   "cell_type": "code",
   "execution_count": null,
   "metadata": {},
   "outputs": [],
   "source": [
    "import pandas as pd\n",
    "import random\n",
    "import numpy as np\n",
    "from pathlib import Path\n",
    "\n",
    "\n",
    "random.seed(0)"
   ]
  },
  {
   "cell_type": "code",
   "execution_count": null,
   "metadata": {},
   "outputs": [],
   "source": [
    "# Keep breed name in the \"Breed\" column\n",
    "df = pd.read_csv(\"dogs_dataset.csv\")\n",
    "df[\"Breed\"] = df[\"Name\"]\n",
    "df.drop(columns=[\"Name\", \"Grooming Needs\", \"Shedding Level\"], inplace=True)\n",
    "\n",
    "# Rename columns\n",
    "df = df.rename(columns={\"Origin\" : \"origin\", \"Type\" : \"type\", \"Friendly Rating (1-10)\" : \"hasFriendlyRating\", \"Life Span\" : \"hasLifeSpan\", \"Size\" : \"hasSize\",  \"Exercise Requirements (hrs/day)\" : \"needsHoursOfExercicePerDay\", \"Intelligence Rating (1-10)\" : \"hasIntelligenceRating\", \"Health Issues Risk\" : \"hasHealthIssuesRisk\", \"Average Weight (kg)\" : \"hasAverageWeight\", \"Training Difficulty (1-10)\" : \"hasTrainingDifficulty\", \"Breed\" : \"breed\"})\n",
    "df.columns = df.columns.str.replace(' ', '_')\n",
    "\n",
    "# Clear data\n",
    "selected_dogs = df[((df[\"origin\"] == \"France\") & (df[\"type\"] == \"Toy\")) | ((df[\"origin\"] == \"England\") & (df[\"type\"] == \"Hound\"))]\n",
    "selected_dogs.loc[selected_dogs[\"breed\"] == \"Poodle (Toy)\", \"breed\"] = \"Poodle\"\n",
    "selected_dogs.loc[selected_dogs[\"breed\"] == \"English Foxhound\", \"breed\"] = \"English_Foxhound\"\n",
    "selected_dogs = selected_dogs.drop(columns=[\"breed\"])   # Dropping Breed as it is the target\n",
    "\n",
    "selected_dogs"
   ]
  },
  {
   "cell_type": "code",
   "execution_count": null,
   "metadata": {},
   "outputs": [],
   "source": [
    "column_values = {}\n",
    "\n",
    "column_values[\"hasHealthIssuesRisk\"] = [\"Low\", \"Moderate\", \"High\"]\n",
    "column_values[\"hasSize\"] = [\"Small-Medium\", \"Medium\", \"Large\", \"Small\", \"Toy\"]\n",
    "\n",
    "column_values[\"hasFriendlyRating\"] = list(range(1, 11)) \n",
    "column_values[\"hasLifeSpan\"] = list(range(5, 21))\n",
    "column_values[\"hasIntelligenceRating\"] = list(range(1, 11))\n",
    "column_values[\"hasTrainingDifficulty\"] = list(range(1, 11))\n",
    "\n",
    "column_values[\"needsHoursOfExercicePerDay\"] = np.linspace(0, 24, 49)\n",
    "\n",
    "columns_names = [\"hasName\"] + list(column_values.keys())\n"
   ]
  },
  {
   "cell_type": "code",
   "execution_count": null,
   "metadata": {},
   "outputs": [],
   "source": [
    "def generate_dogs(n=50):\n",
    "    print(f\"Generating {n} new dogs !\")\n",
    "    \n",
    "    data = {}\n",
    "    data['hasName'] = []\n",
    "    data['origin'] = []\n",
    "    data['type'] = []\n",
    "    data['hasFriendlyRating'] = []\n",
    "    data['hasLifeSpan'] = []\n",
    "    data['hasSize'] = []\n",
    "    data['needsHoursOfExercicePerDay'] = []\n",
    "    data['hasIntelligenceRating'] = []\n",
    "    data['hasHealthIssuesRisk'] = []\n",
    "    data['hasAverageWeight'] = []\n",
    "    data['hasTrainingDifficulty'] = []\n",
    "    \n",
    "    for i in range(n):\n",
    "        data['hasName'].append(f\"dog_{i}\")    \n",
    "        data['origin'].append(random.choices(column_values[\"origin\"])[0])\n",
    "        data['type'].append(random.choices(column_values[\"type\"])[0])\n",
    "        data['hasFriendlyRating'].append(random.choices(column_values[\"hasFriendlyRating\"])[0])\n",
    "        data['hasLifeSpan'].append(random.choices(column_values[\"hasLifeSpan\"])[0])\n",
    "        data['hasSize'].append(random.choices(column_values[\"hasSize\"])[0])\n",
    "        data['needsHoursOfExercicePerDay'].append(random.choices(column_values[\"needsHoursOfExercicePerDay\"])[0])\n",
    "        data['hasIntelligenceRating'].append(random.choices(column_values[\"hasIntelligenceRating\"])[0])\n",
    "        data['hasHealthIssuesRisk'].append(random.choices(column_values[\"hasHealthIssuesRisk\"])[0])\n",
    "        data['hasAverageWeight'].append(round(np.random.uniform(low=5, high=35), 2))\n",
    "        data['hasTrainingDifficulty'].append(random.choices(column_values[\"hasTrainingDifficulty\"])[0])\n",
    "\n",
    "    return pd.DataFrame(data=data, columns=columns_names)"
   ]
  },
  {
   "cell_type": "code",
   "execution_count": null,
   "metadata": {},
   "outputs": [],
   "source": [
    "# Path(\"./dataset\").mkdir(parents=True, exist_ok=True)\n",
    "# Path(\"./KB\").mkdir(parents=True, exist_ok=True)\n",
    "\n",
    "\n",
    "# n = 50\n",
    "# dog_df = None\n",
    "# for i in range(15):\n",
    "#     dog_df = generate_dogs(n)\n",
    "    \n",
    "#     dog_df.to_csv(f\"./dataset/dogs_{n}.csv\")\n",
    "#     print(f\"{n} dogs generated and saved in file dogs_{n}.ttl\")\n",
    "#     print()\n",
    "\n",
    "#     n *= 2\n"
   ]
  }
 ],
 "metadata": {
  "kernelspec": {
   "display_name": "Python 3",
   "language": "python",
   "name": "python3"
  },
  "language_info": {
   "codemirror_mode": {
    "name": "ipython",
    "version": 3
   },
   "file_extension": ".py",
   "mimetype": "text/x-python",
   "name": "python",
   "nbconvert_exporter": "python",
   "pygments_lexer": "ipython3",
   "version": "3.10.12"
  }
 },
 "nbformat": 4,
 "nbformat_minor": 2
}
