{
 "cells": [
  {
   "cell_type": "code",
   "execution_count": null,
   "metadata": {},
   "outputs": [],
   "source": [
    "import pandas as pd\n",
    "import random\n",
    "import numpy as np\n",
    "from pathlib import Path\n",
    "\n",
    "\n",
    "random.seed(0)"
   ]
  },
  {
   "cell_type": "code",
   "execution_count": null,
   "metadata": {},
   "outputs": [],
   "source": [
    "column_values = {}\n",
    "\n",
    "column_values[\"hasHealthIssuesRisk\"] = [\"Low\", \"Moderate\", \"High\"]\n",
    "column_values[\"hasSize\"] = [\"Small-Medium\", \"Medium\", \"Large\", \"Small\", \"Toy\"]\n",
    "\n",
    "column_values[\"hasFriendlyRating\"] = list(range(1, 11))\n",
    "column_values[\"hasLifeSpan\"] = list(range(5, 21))\n",
    "column_values[\"hasIntelligenceRating\"] = list(range(1, 11))\n",
    "column_values[\"hasTrainingDifficulty\"] = list(range(1, 11))\n",
    "\n",
    "column_values[\"needsHoursOfExercicePerDay\"] = np.linspace(0, 24, 49)\n",
    "\n",
    "column_values[\"origin\"] = [\"Germany\", \"Afghanistan\", \"England\", \"Japan\", \"USA\", \"Australia\", \"CentralAfrica\", \"France\", \"Scotland\", \"Switzerland\"]\n",
    "column_values[\"type\"] = [\"Toy\", \"Hound\", \"Terrier\", \"Working\", \"Non-Sporting\", \"Herding\", \"Sporting\", \"Standard\"]\n",
    "\n",
    "columns_names = [\"hasName\", \"origin\", \"type\", \"hasFriendlyRating\", \"hasLifeSpan\", \"hasSize\", \"needsHoursOfExercicePerDay\", \"hasIntelligenceRating\", \"hasHealthIssuesRisk\", \"hasAverageWeight\", \"hasTrainingDifficulty\"]\n",
    "data_columns_names = [\"hasFriendlyRating\", \"hasLifeSpan\", \"hasSize\", \"needsHoursOfExercicePerDay\", \"hasIntelligenceRating\", \"hasHealthIssuesRisk\", \"hasAverageWeight\", \"hasTrainingDifficulty\"]\n"
   ]
  },
  {
   "cell_type": "code",
   "execution_count": null,
   "metadata": {},
   "outputs": [],
   "source": [
    "def generate_dogs(n=50):\n",
    "    print(f\"Generating {n} new dogs !\")\n",
    "    \n",
    "    data = {}\n",
    "    data['hasName'] = []\n",
    "    data['origin'] = []\n",
    "    data['type'] = []\n",
    "    data['hasFriendlyRating'] = []\n",
    "    data['hasLifeSpan'] = []\n",
    "    data['hasSize'] = []\n",
    "    data['needsHoursOfExercicePerDay'] = []\n",
    "    data['hasIntelligenceRating'] = []\n",
    "    data['hasHealthIssuesRisk'] = []\n",
    "    data['hasAverageWeight'] = []\n",
    "    data['hasTrainingDifficulty'] = []\n",
    "\n",
    "    \n",
    "    for i in range(n):\n",
    "        data['hasName'].append(f\"dog_{i}\")\n",
    "        data['origin'].append(random.choices(column_values[\"origin\"])[0])\n",
    "        data['type'].append(random.choices(column_values[\"type\"])[0])\n",
    "        data['hasFriendlyRating'].append(random.choices(column_values[\"hasFriendlyRating\"])[0])        \n",
    "        data['hasLifeSpan'].append(random.choices(column_values[\"hasLifeSpan\"])[0])        \n",
    "        data['hasSize'].append(random.choices(column_values[\"hasSize\"])[0])        \n",
    "        data['needsHoursOfExercicePerDay'].append(random.choices(column_values[\"needsHoursOfExercicePerDay\"])[0])        \n",
    "        data['hasIntelligenceRating'].append(random.choices(column_values[\"hasIntelligenceRating\"])[0])        \n",
    "        data['hasHealthIssuesRisk'].append(random.choices(column_values[\"hasHealthIssuesRisk\"])[0])        \n",
    "        data['hasAverageWeight'].append(round(np.random.uniform(low=5, high=35), 2))        \n",
    "        data['hasTrainingDifficulty'].append(random.choices(column_values[\"hasTrainingDifficulty\"])[0])\n",
    "\n",
    "    df = pd.DataFrame(data=data, columns=columns_names)\n",
    "\n",
    "    i = 0\n",
    "    for col in data_columns_names:\n",
    "        if n == 50: # These conditions ensures that 5% of the cells are None when n = 50\n",
    "            if i < 4:\n",
    "                df.loc[df.sample(frac=0.02, random_state=42).index, col] = None\n",
    "            if i >= 4:\n",
    "                df.loc[df.sample(frac=0.08, random_state=42).index, col] = None \n",
    "            i += 1\n",
    "        else:\n",
    "            df.loc[df.sample(frac=0.05, random_state=42).index, col] = None \n",
    "        \n",
    "        \n",
    "    return df"
   ]
  },
  {
   "cell_type": "code",
   "execution_count": 4,
   "metadata": {},
   "outputs": [
    {
     "name": "stdout",
     "output_type": "stream",
     "text": [
      "102400 dogs generated and saved in file dogs_102400.csv. Missing values : 40960 (5.0%)\n",
      "\n",
      "Generating 204800 new dogs !\n"
     ]
    },
    {
     "ename": "KeyboardInterrupt",
     "evalue": "",
     "output_type": "error",
     "traceback": [
      "\u001b[1;31m---------------------------------------------------------------------------\u001b[0m",
      "\u001b[1;31mKeyboardInterrupt\u001b[0m                         Traceback (most recent call last)",
      "Cell \u001b[1;32mIn[4], line 7\u001b[0m\n\u001b[0;32m      5\u001b[0m dog_df \u001b[38;5;241m=\u001b[39m \u001b[38;5;28;01mNone\u001b[39;00m\n\u001b[0;32m      6\u001b[0m \u001b[38;5;28;01mfor\u001b[39;00m i \u001b[38;5;129;01min\u001b[39;00m \u001b[38;5;28mrange\u001b[39m(\u001b[38;5;241m14\u001b[39m):\n\u001b[1;32m----> 7\u001b[0m     dog_df \u001b[38;5;241m=\u001b[39m \u001b[43mgenerate_dogs\u001b[49m\u001b[43m(\u001b[49m\u001b[43mn\u001b[49m\u001b[43m)\u001b[49m\n\u001b[0;32m      9\u001b[0m     missing_values \u001b[38;5;241m=\u001b[39m dog_df\u001b[38;5;241m.\u001b[39misnull()\u001b[38;5;241m.\u001b[39msum()\u001b[38;5;241m.\u001b[39msum()\n\u001b[0;32m     11\u001b[0m     dog_df\u001b[38;5;241m.\u001b[39mto_csv(\u001b[38;5;124mf\u001b[39m\u001b[38;5;124m\"\u001b[39m\u001b[38;5;124m./dataset/dogs_\u001b[39m\u001b[38;5;132;01m{\u001b[39;00mn\u001b[38;5;132;01m}\u001b[39;00m\u001b[38;5;124m.csv\u001b[39m\u001b[38;5;124m\"\u001b[39m)\n",
      "Cell \u001b[1;32mIn[3], line 22\u001b[0m, in \u001b[0;36mgenerate_dogs\u001b[1;34m(n)\u001b[0m\n\u001b[0;32m     20\u001b[0m data[\u001b[38;5;124m'\u001b[39m\u001b[38;5;124morigin\u001b[39m\u001b[38;5;124m'\u001b[39m]\u001b[38;5;241m.\u001b[39mappend(random\u001b[38;5;241m.\u001b[39mchoices(column_values[\u001b[38;5;124m\"\u001b[39m\u001b[38;5;124morigin\u001b[39m\u001b[38;5;124m\"\u001b[39m])[\u001b[38;5;241m0\u001b[39m])\n\u001b[0;32m     21\u001b[0m data[\u001b[38;5;124m'\u001b[39m\u001b[38;5;124mtype\u001b[39m\u001b[38;5;124m'\u001b[39m]\u001b[38;5;241m.\u001b[39mappend(random\u001b[38;5;241m.\u001b[39mchoices(column_values[\u001b[38;5;124m\"\u001b[39m\u001b[38;5;124mtype\u001b[39m\u001b[38;5;124m\"\u001b[39m])[\u001b[38;5;241m0\u001b[39m])\n\u001b[1;32m---> 22\u001b[0m data[\u001b[38;5;124m'\u001b[39m\u001b[38;5;124mhasFriendlyRating\u001b[39m\u001b[38;5;124m'\u001b[39m]\u001b[38;5;241m.\u001b[39mappend(\u001b[43mrandom\u001b[49m\u001b[38;5;241;43m.\u001b[39;49m\u001b[43mchoices\u001b[49m\u001b[43m(\u001b[49m\u001b[43mcolumn_values\u001b[49m\u001b[43m[\u001b[49m\u001b[38;5;124;43m\"\u001b[39;49m\u001b[38;5;124;43mhasFriendlyRating\u001b[39;49m\u001b[38;5;124;43m\"\u001b[39;49m\u001b[43m]\u001b[49m\u001b[43m)\u001b[49m[\u001b[38;5;241m0\u001b[39m])        \n\u001b[0;32m     23\u001b[0m data[\u001b[38;5;124m'\u001b[39m\u001b[38;5;124mhasLifeSpan\u001b[39m\u001b[38;5;124m'\u001b[39m]\u001b[38;5;241m.\u001b[39mappend(random\u001b[38;5;241m.\u001b[39mchoices(column_values[\u001b[38;5;124m\"\u001b[39m\u001b[38;5;124mhasLifeSpan\u001b[39m\u001b[38;5;124m\"\u001b[39m])[\u001b[38;5;241m0\u001b[39m])        \n\u001b[0;32m     24\u001b[0m data[\u001b[38;5;124m'\u001b[39m\u001b[38;5;124mhasSize\u001b[39m\u001b[38;5;124m'\u001b[39m]\u001b[38;5;241m.\u001b[39mappend(random\u001b[38;5;241m.\u001b[39mchoices(column_values[\u001b[38;5;124m\"\u001b[39m\u001b[38;5;124mhasSize\u001b[39m\u001b[38;5;124m\"\u001b[39m])[\u001b[38;5;241m0\u001b[39m])        \n",
      "File \u001b[1;32mc:\\Users\\Sebastien GUILLEMIN\\AppData\\Local\\Programs\\Python\\Python311\\Lib\\random.py:493\u001b[0m, in \u001b[0;36mRandom.choices\u001b[1;34m(self, population, weights, cum_weights, k)\u001b[0m\n\u001b[0;32m    491\u001b[0m     floor \u001b[38;5;241m=\u001b[39m _floor\n\u001b[0;32m    492\u001b[0m     n \u001b[38;5;241m+\u001b[39m\u001b[38;5;241m=\u001b[39m \u001b[38;5;241m0.0\u001b[39m    \u001b[38;5;66;03m# convert to float for a small speed improvement\u001b[39;00m\n\u001b[1;32m--> 493\u001b[0m     \u001b[38;5;28;01mreturn\u001b[39;00m [population[floor(random() \u001b[38;5;241m*\u001b[39m n)] \u001b[38;5;28;01mfor\u001b[39;00m i \u001b[38;5;129;01min\u001b[39;00m \u001b[43m_repeat\u001b[49m\u001b[43m(\u001b[49m\u001b[38;5;28;43;01mNone\u001b[39;49;00m\u001b[43m,\u001b[49m\u001b[43m \u001b[49m\u001b[43mk\u001b[49m\u001b[43m)\u001b[49m]\n\u001b[0;32m    494\u001b[0m \u001b[38;5;28;01mtry\u001b[39;00m:\n\u001b[0;32m    495\u001b[0m     cum_weights \u001b[38;5;241m=\u001b[39m \u001b[38;5;28mlist\u001b[39m(_accumulate(weights))\n",
      "\u001b[1;31mKeyboardInterrupt\u001b[0m: "
     ]
    }
   ],
   "source": [
    "Path(\"./dataset\").mkdir(parents=True, exist_ok=True)\n",
    "Path(\"./KB\").mkdir(parents=True, exist_ok=True)\n",
    "\n",
    "n = 50\n",
    "dog_df = None\n",
    "for i in range(14):\n",
    "    dog_df = generate_dogs(n)\n",
    "\n",
    "    missing_values = dog_df.isnull().sum().sum()\n",
    "\n",
    "    dog_df.to_csv(f\"./dataset/dogs_{n}.csv\")\n",
    "    print(f\"{n} dogs generated and saved in file dogs_{n}.csv. Missing values : {missing_values} ({100 * missing_values / (n * 8)}%)\")\n",
    "    print()\n",
    "\n",
    "    n *= 2\n"
   ]
  }
 ],
 "metadata": {
  "kernelspec": {
   "display_name": "Python 3",
   "language": "python",
   "name": "python3"
  },
  "language_info": {
   "codemirror_mode": {
    "name": "ipython",
    "version": 3
   },
   "file_extension": ".py",
   "mimetype": "text/x-python",
   "name": "python",
   "nbconvert_exporter": "python",
   "pygments_lexer": "ipython3",
   "version": "3.11.2"
  }
 },
 "nbformat": 4,
 "nbformat_minor": 2
}
