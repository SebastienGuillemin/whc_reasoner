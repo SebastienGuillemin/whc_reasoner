{
 "cells": [
  {
   "cell_type": "code",
   "execution_count": null,
   "metadata": {},
   "outputs": [],
   "source": [
    "import pandas as pd\n",
    "import random\n",
    "import numpy as np\n",
    "from pathlib import Path\n",
    "\n",
    "\n",
    "random.seed(0)\n",
    "np.random.seed(100)\n"
   ]
  },
  {
   "cell_type": "code",
   "execution_count": null,
   "metadata": {},
   "outputs": [],
   "source": [
    "column_values = {}\n",
    "\n",
    "column_values[\"hasHealthIssuesRisk\"] = [\"Low\", \"Moderate\", \"High\"]\n",
    "column_values[\"hasSize\"] = [\"Large\", \"Medium\", \"Small\", \"Toy\"]\n",
    "\n",
    "column_values[\"hasFriendlyRating\"] = list(range(1, 11))\n",
    "column_values[\"hasLifeSpan\"] = list(range(5, 21))\n",
    "column_values[\"hasIntelligenceRating\"] = list(range(1, 11))\n",
    "column_values[\"hasTrainingDifficulty\"] = list(range(1, 11))\n",
    "\n",
    "column_values[\"needsHoursOfExercicePerDay\"] = np.linspace(0, 24, 49)\n",
    "\n",
    "column_values[\"origin\"] = [\"Germany\", \"England\", \"Australia\", \"France\", \"Switzerland\"]\n",
    "column_values[\"type\"] = [\"Toy\", \"Hound\", \"Terrier\", \"Working\", \"Non-Sporting\", \"Herding\", \"Sporting\", \"Standard\"]\n",
    "\n",
    "columns_names = [\"hasName\", \"origin\", \"type\", \"hasFriendlyRating\", \"hasLifeSpan\", \"hasSize\", \"needsHoursOfExercicePerDay\", \"hasIntelligenceRating\", \"hasHealthIssuesRisk\", \"hasAverageWeight\", \"hasTrainingDifficulty\"]\n",
    "data_columns_names = [\"origin\", \"type\", \"hasFriendlyRating\", \"hasLifeSpan\", \"hasSize\", \"needsHoursOfExercicePerDay\", \"hasIntelligenceRating\", \"hasHealthIssuesRisk\", \"hasAverageWeight\", \"hasTrainingDifficulty\"]"
   ]
  },
  {
   "cell_type": "code",
   "execution_count": null,
   "metadata": {},
   "outputs": [],
   "source": [
    "def remove_per_cent_missing_data(dataframe, p=5.0):\n",
    "    # Calculate the number of values to remove\n",
    "    total_values = dataframe.size\n",
    "    num_values_to_remove = int(total_values * (p / 100.0))\n",
    "    # Flatten the subset DataFrame and get the index and column information\n",
    "    flattened_subset = dataframe.stack()\n",
    "\n",
    "    # Randomly select the indices (row, column) to remove\n",
    "    random_indices = np.random.choice(flattened_subset.index, size=num_values_to_remove, replace=False)\n",
    "\n",
    "    # Set the randomly selected values to NaN in the original DataFrame\n",
    "    for row, col in random_indices:\n",
    "        dataframe.at[row, col] = np.nan\n",
    "\n",
    "    return dataframe\n",
    "\n",
    "def generate_dogs(n=50):\n",
    "    print(f\"Generating {n} new dogs !\")\n",
    "    \n",
    "    data = {}\n",
    "    data['hasName'] = []\n",
    "    data['origin'] = []\n",
    "    data['type'] = []\n",
    "    data['hasFriendlyRating'] = []\n",
    "    data['hasLifeSpan'] = []\n",
    "    data['hasSize'] = []\n",
    "    data['needsHoursOfExercicePerDay'] = []\n",
    "    data['hasIntelligenceRating'] = []\n",
    "    data['hasHealthIssuesRisk'] = []\n",
    "    data['hasAverageWeight'] = []\n",
    "    data['hasTrainingDifficulty'] = []\n",
    "\n",
    "    \n",
    "    for i in range(n):\n",
    "        data['hasName'].append(f\"dog_{i}\")\n",
    "        data['origin'].append(random.choices(column_values[\"origin\"])[0])\n",
    "        data['type'].append(random.choices(column_values[\"type\"])[0])\n",
    "        data['hasFriendlyRating'].append(random.choices(column_values[\"hasFriendlyRating\"])[0])        \n",
    "        data['hasLifeSpan'].append(random.choices(column_values[\"hasLifeSpan\"])[0])        \n",
    "        data['hasSize'].append(random.choices(column_values[\"hasSize\"])[0])        \n",
    "        data['needsHoursOfExercicePerDay'].append(random.choices(column_values[\"needsHoursOfExercicePerDay\"])[0])        \n",
    "        data['hasIntelligenceRating'].append(random.choices(column_values[\"hasIntelligenceRating\"])[0])        \n",
    "        data['hasHealthIssuesRisk'].append(random.choices(column_values[\"hasHealthIssuesRisk\"])[0])        \n",
    "        data['hasAverageWeight'].append(round(np.random.uniform(low=5, high=35), 2))        \n",
    "        data['hasTrainingDifficulty'].append(random.choices(column_values[\"hasTrainingDifficulty\"])[0])\n",
    "\n",
    "    df = pd.DataFrame(data=data, columns=columns_names)\n",
    "\n",
    "    df[data_columns_names] = remove_per_cent_missing_data(df[data_columns_names])\n",
    "        \n",
    "        \n",
    "    return df"
   ]
  },
  {
   "cell_type": "code",
   "execution_count": null,
   "metadata": {},
   "outputs": [],
   "source": [
    "Path(\"./dataset\").mkdir(parents=True, exist_ok=True)\n",
    "Path(\"./KB\").mkdir(parents=True, exist_ok=True)\n",
    "\n",
    "n = 100\n",
    "dog_df = None\n",
    "for i in range(13):\n",
    "    dog_df = generate_dogs(n)\n",
    "\n",
    "    missing_values = dog_df.isnull().sum().sum()\n",
    "\n",
    "    dog_df.to_csv(f\"./dataset/dogs_{n}.csv\")\n",
    "    print(f\"{n} dogs generated and saved in file dogs_{n}.csv. Missing values : {missing_values} ({100 * missing_values / (n * 10)}%)\")\n",
    "    print()\n",
    "\n",
    "    n *= 2\n"
   ]
  }
 ],
 "metadata": {
  "kernelspec": {
   "display_name": "Python 3",
   "language": "python",
   "name": "python3"
  },
  "language_info": {
   "codemirror_mode": {
    "name": "ipython",
    "version": 3
   },
   "file_extension": ".py",
   "mimetype": "text/x-python",
   "name": "python",
   "nbconvert_exporter": "python",
   "pygments_lexer": "ipython3",
   "version": "3.10.12"
  }
 },
 "nbformat": 4,
 "nbformat_minor": 2
}
